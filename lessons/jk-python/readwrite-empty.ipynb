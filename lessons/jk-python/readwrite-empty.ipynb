{
 "metadata": {
  "name": ""
 },
 "nbformat": 3,
 "nbformat_minor": 0,
 "worksheets": [
  {
   "cells": [
    {
     "cell_type": "markdown",
     "metadata": {},
     "source": [
      "# Reading and Writing Files using Python\n",
      "\n",
      "_Prepared by: Cindee Madison  \n",
      "Original by: Chris Holdgraf , Justin Kitzes_"
     ]
    },
    {
     "cell_type": "markdown",
     "metadata": {},
     "source": [
      "## 1. Introduction\n",
      "\n",
      "The core Python libraries, along with external packages such as `numpy`, `matplotlib`, `pandas`, and others,\n",
      "provide both low-level and high-level methods for extracting data from files, processing this data, and\n",
      "saving results back to disk.\n",
      "\n",
      "__In this lesson, we will read text-based data files in two ways...__\n",
      "\n",
      "\n",
      "1. We will use **pandas** to easily read, modify, and write back out a comma-separated-values (csv) file.\n",
      "\n"
     ]
    },
    {
     "cell_type": "markdown",
     "metadata": {},
     "source": [
      "###Pandas\n",
      "\n",
      "There are several packages for dealing with structured data in a more intelligent way (e.g., see [matplotlib.mlab](http://matplotlib.org/api/mlab_api.html) and [recarrays](http://docs.scipy.org/doc/numpy/reference/generated/numpy.recarray.html).  However, in recent years, [Pandas]( http://pandas.pydata.org/) has risen above the rest in its usability and flexibility.\n",
      "\n",
      "Pandas is one of the most powerful tools for doing data analysis in python.  It provides a way of representing, reading/writing, manipulating, analyzing, and plotting your data (among others). It has a fairly steep learning curve, but we assure you it will be worth it.\n",
      "\n",
      "The main data structure in Pandas is known as the \"DataFrame\" (which is quite similar to a Dataframe in R, if you're into that kind of thing...).  It let's you conveniently and clearly store, manipulate, plot, store, filter, etc, all kinds of data.\n",
      "\n",
      "While we can create dataframes manually, here we will use Pandas I/O functionality, which can easily read from csv files (and from many others as well, such as JSON, HTML, or HDF)\n",
      "\n",
      ">Note - Pandas can do *a lot*, and it's a very complicated package to understand in full.  For this tutorial, we will stick with reading in data, looking at it, and writing it     back to a file.  If you want to do more with pandas, check out the [extensive documentation](http://pandas.pydata.org/pandas-docs/stable/) online (though be prepared for a relatively steep learning curve)"
     ]
    },
    {
     "cell_type": "code",
     "collapsed": false,
     "input": [
      "%pylab inline\n",
      "import pandas as pd"
     ],
     "language": "python",
     "metadata": {},
     "outputs": []
    },
    {
     "cell_type": "code",
     "collapsed": false,
     "input": [
      "!cat sightings_tab_sm.csv"
     ],
     "language": "python",
     "metadata": {},
     "outputs": []
    },
    {
     "cell_type": "code",
     "collapsed": false,
     "input": [
      "# First we will read in the data from the CSV file.\n",
      "# Pandas has inherent fanciness that displays data in nice tabular format.\n"
     ],
     "language": "python",
     "metadata": {},
     "outputs": []
    },
    {
     "cell_type": "code",
     "collapsed": false,
     "input": [
      "## DataFrames can hold multiple different datatypes\n",
      "\n",
      "## Count is a int64"
     ],
     "language": "python",
     "metadata": {},
     "outputs": []
    },
    {
     "cell_type": "code",
     "collapsed": false,
     "input": [
      "# a dataframe has colums. We use the columns names to access each column\n"
     ],
     "language": "python",
     "metadata": {},
     "outputs": []
    },
    {
     "cell_type": "code",
     "collapsed": false,
     "input": [
      "## the  u in u'Date' just lets you know it is a unicode string"
     ],
     "language": "python",
     "metadata": {},
     "outputs": []
    },
    {
     "cell_type": "code",
     "collapsed": false,
     "input": [
      "## we can access the data in each column in two ways\n",
      "## This works if the column names are simple single words, if a column header has spaces\n",
      "## or special character (like % or &) then you need to specify the exact string\n"
     ],
     "language": "python",
     "metadata": {},
     "outputs": []
    },
    {
     "cell_type": "code",
     "collapsed": false,
     "input": [
      "# I can create a new dataframe form a subset of columns easily\n"
     ],
     "language": "python",
     "metadata": {},
     "outputs": []
    },
    {
     "cell_type": "code",
     "collapsed": false,
     "input": [
      "## Accessing rows is a little more difficult\n",
      "## df[0] # This will raise an error\n",
      "## Tho I can slice to get a few rows\n"
     ],
     "language": "python",
     "metadata": {},
     "outputs": []
    },
    {
     "cell_type": "code",
     "collapsed": false,
     "input": [
      "# Note that we can explicitly turn our values into an array\n",
      "# by using the \"values\" attribute\n"
     ],
     "language": "python",
     "metadata": {},
     "outputs": []
    },
    {
     "cell_type": "code",
     "collapsed": false,
     "input": [
      "## If we explicity grab the values as a numpy array, we can easily index\n",
      "## First row, all columns\n"
     ],
     "language": "python",
     "metadata": {},
     "outputs": []
    },
    {
     "cell_type": "markdown",
     "metadata": {},
     "source": [
      "### There are a large number of control parameters when reading a csv\n",
      "1. sep : default is comma, but you can specify '\\t' (tab) or if unsure, try sep=None\n",
      "2. skiprows : sometimes you want to skip a couple rows, eg skiprows = 2\n",
      "\n",
      "To find all the options\n",
      "pd.read_csv?"
     ]
    },
    {
     "cell_type": "markdown",
     "metadata": {},
     "source": [
      "### You can use pandas to write a new files\n",
      "1. we created small_df above, just holding Animal and Count. We can write this to a new file:\n",
      "\n",
      "    small_df.to_csv('small_sample.csv')"
     ]
    },
    {
     "cell_type": "code",
     "collapsed": false,
     "input": [],
     "language": "python",
     "metadata": {},
     "outputs": []
    },
    {
     "cell_type": "code",
     "collapsed": false,
     "input": [
      "# we can also create an excel file\n"
     ],
     "language": "python",
     "metadata": {},
     "outputs": []
    },
    {
     "cell_type": "markdown",
     "metadata": {},
     "source": [
      "### using Pandas to Read Excel Files\n"
     ]
    },
    {
     "cell_type": "code",
     "collapsed": false,
     "input": [],
     "language": "python",
     "metadata": {},
     "outputs": []
    },
    {
     "cell_type": "code",
     "collapsed": false,
     "input": [
      "# Excel files can hold multiple sheets, so we need to choose which sheet we would like to load\n",
      "\n"
     ],
     "language": "python",
     "metadata": {},
     "outputs": []
    },
    {
     "cell_type": "code",
     "collapsed": false,
     "input": [],
     "language": "python",
     "metadata": {},
     "outputs": []
    },
    {
     "cell_type": "code",
     "collapsed": false,
     "input": [
      "# This excel file has 2000 rows\n",
      "## Look at the first 5 rows\n"
     ],
     "language": "python",
     "metadata": {},
     "outputs": []
    },
    {
     "cell_type": "code",
     "collapsed": false,
     "input": [
      "## you can also use head() to look at just the beginning of the data frame\n"
     ],
     "language": "python",
     "metadata": {},
     "outputs": []
    },
    {
     "cell_type": "code",
     "collapsed": false,
     "input": [
      "## find out something interesting about the data\n"
     ],
     "language": "python",
     "metadata": {},
     "outputs": []
    },
    {
     "cell_type": "code",
     "collapsed": false,
     "input": [
      "## plot some of the data\n"
     ],
     "language": "python",
     "metadata": {},
     "outputs": []
    },
    {
     "cell_type": "markdown",
     "metadata": {},
     "source": [
      "### Slicing a dataframe\n",
      "Right now I am counting all animals. What if I only care about Owls?\n",
      "This makes more sense, I can create a simple boolean mask, and create\n",
      "a new data frame of just owls."
     ]
    },
    {
     "cell_type": "code",
     "collapsed": false,
     "input": [
      "# create a new dataframe that only contains Owl data\n"
     ],
     "language": "python",
     "metadata": {},
     "outputs": []
    },
    {
     "cell_type": "code",
     "collapsed": false,
     "input": [
      "# Use describe to learn a little about the Owl data\n",
      "# eg. we have 229 samples, mincount = 1, maxcount = 42\n"
     ],
     "language": "python",
     "metadata": {},
     "outputs": []
    },
    {
     "cell_type": "code",
     "collapsed": false,
     "input": [
      "## add a new column based on math form original column\n"
     ],
     "language": "python",
     "metadata": {},
     "outputs": []
    },
    {
     "cell_type": "code",
     "collapsed": false,
     "input": [],
     "language": "python",
     "metadata": {},
     "outputs": []
    },
    {
     "cell_type": "code",
     "collapsed": false,
     "input": [
      "## I can create a new column and set all rows to the same value\n"
     ],
     "language": "python",
     "metadata": {},
     "outputs": []
    },
    {
     "cell_type": "code",
     "collapsed": false,
     "input": [
      "## Adding empty data\n",
      "#owls['gender'] = ['Female', pd.np.nan]"
     ],
     "language": "python",
     "metadata": {},
     "outputs": []
    },
    {
     "cell_type": "code",
     "collapsed": false,
     "input": [
      "## I can set the first 10 records to nan (missing data)\n"
     ],
     "language": "python",
     "metadata": {},
     "outputs": []
    },
    {
     "cell_type": "code",
     "collapsed": false,
     "input": [
      "## How many samples of each column do we have\n",
      "## See how the count for Gender is lower than other columns\n"
     ],
     "language": "python",
     "metadata": {},
     "outputs": []
    },
    {
     "cell_type": "markdown",
     "metadata": {},
     "source": [
      "#### Iterating through Pandas arrays\n",
      "\n",
      "Iteration is a bit different in Pandas.  In general, it's easy to be very explicit about how you're iterating (e.g., by rows or columns).  All dataframes have an `iterrows` and `iteritems` method.  For this exercise, we'll focus on `iterrows`\n",
      "\n",
      "Iterrows - each iteration will return another row of the dataframe as (index, vals) pairs."
     ]
    },
    {
     "cell_type": "code",
     "collapsed": false,
     "input": [
      "# Each iteration returns a Pandas series, not a simple array.  \n",
      "# This lets you do useful things with it when you become a pandas guru...\n"
     ],
     "language": "python",
     "metadata": {},
     "outputs": []
    },
    {
     "cell_type": "code",
     "collapsed": false,
     "input": [
      "## I can access a specific column value from each row\n"
     ],
     "language": "python",
     "metadata": {},
     "outputs": []
    },
    {
     "cell_type": "heading",
     "level": 2,
     "metadata": {},
     "source": [
      "Afterword"
     ]
    },
    {
     "cell_type": "markdown",
     "metadata": {},
     "source": [
      "Remember, `pandas` is an incredibly powerful tool that will take you a while to master (though it will certainly be worth it). This is just a small taste of all the things pandas can do, so don't feel discouraged if it seems totally overwhelming. Once you integrate it into your workflow, you will learn bit by bit. Also don't forget to consult the fantastic community of pythonistas around you here at Berkeley.\n",
      "\n",
      "In this lecture we've only covered a couple of the ways that you can read/write data.  While textfiles and CSV files are a common way of storing values, there many, many others.  Fortunately, Python has libraries for handling most of them.  Some things worth looking into are [JSON](http://www.json.org/), [HDF](http://www.hdfgroup.org/), [pickle](http://docs.python.org/2/library/pickle.html), and [savez](http://docs.scipy.org/doc/numpy/reference/generated/numpy.savez.html).\n",
      "\n",
      "As a general note, Pandas should have the ability to read/write to most of these types of storage.  One special case is when you use a proprietary storage format (e.g., if you've bought a machine that stores data in a company-specific way).  \n",
      "\n",
      "There are also many high-level file handlers in `numpy`, such as `loadtxt` and `savetxt`, that are also useful and we encourage you to look into them.  Finally, a totally different kind of data reading problem involves pulling data the internet.  For this, there are dedicated libraries for parsing websites and pulling information from them.  Rest-assured, these tools exist, but this challenge is beyond the scope of this lecture.  "
     ]
    },
    {
     "cell_type": "code",
     "collapsed": false,
     "input": [],
     "language": "python",
     "metadata": {},
     "outputs": []
    }
   ],
   "metadata": {}
  }
 ]
}